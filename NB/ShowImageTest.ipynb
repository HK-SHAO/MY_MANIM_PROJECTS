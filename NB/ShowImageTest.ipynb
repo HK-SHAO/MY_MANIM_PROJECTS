{
 "cells": [
  {
   "cell_type": "code",
   "execution_count": 2,
   "metadata": {},
   "outputs": [],
   "source": [
    "import jupyter_manim\n",
    "from manimlib.imports import *\n",
    "from PIL import Image, ImageFilter, ImageGrab"
   ]
  },
  {
   "cell_type": "code",
   "execution_count": 5,
   "metadata": {},
   "outputs": [
    {
     "data": {
      "text/html": [
       "\n",
       "    <video\n",
       "      width=\"854\"\n",
       "      height=\"480\"\n",
       "      autoplay=\"autoplay\"\n",
       "      controls\n",
       "    >\n",
       "        <source src=\"media\\videos\\tmpm41cl1a8\\480p15\\Eject.mp4\" type=\"video/mp4\">\n",
       "    </video>\n",
       "    "
      ],
      "text/plain": [
       "<IPython.core.display.HTML object>"
      ]
     },
     "execution_count": 5,
     "metadata": {},
     "output_type": "execute_result"
    }
   ],
   "source": [
    "%%manim Eject --low_quality\n",
    "class Eject(Scene):\n",
    "    def construct(self):\n",
    "        img = ImageMobject(\"C:/Users/SHAO/Desktop/dsadsd.png\").scale(1/1000)\n",
    "        self.add(img)\n",
    "        self.play(img.scale, 1000)\n",
    "        self.wait()"
   ]
  },
  {
   "cell_type": "code",
   "execution_count": 9,
   "metadata": {},
   "outputs": [
    {
     "data": {
      "text/html": [
       "\n",
       "    <video\n",
       "      width=\"854\"\n",
       "      height=\"480\"\n",
       "      autoplay=\"autoplay\"\n",
       "      controls\n",
       "    >\n",
       "        <source src=\"media\\videos\\tmpy181zpoc\\480p15\\Eject.mp4\" type=\"video/mp4\">\n",
       "    </video>\n",
       "    "
      ],
      "text/plain": [
       "<IPython.core.display.HTML object>"
      ]
     },
     "execution_count": 9,
     "metadata": {},
     "output_type": "execute_result"
    }
   ],
   "source": [
    "%%manim Eject --low_quality\n",
    "class Eject(Scene):\n",
    "    def construct(self):\n",
    "        img = ImageMobject(\"C:/Users/SHAO/Desktop/zuowen.png\").scale(1/1000)\n",
    "        rec = Rectangle()\n",
    "        self.play(ShowCreation(rec))\n",
    "        self.add(img)\n",
    "        self.play(img.scale, 1000)\n",
    "        self.wait()"
   ]
  },
  {
   "cell_type": "code",
   "execution_count": null,
   "metadata": {},
   "outputs": [],
   "source": []
  }
 ],
 "metadata": {
  "kernelspec": {
   "display_name": "Python 3",
   "language": "python",
   "name": "python3"
  },
  "language_info": {
   "codemirror_mode": {
    "name": "ipython",
    "version": 3
   },
   "file_extension": ".py",
   "mimetype": "text/x-python",
   "name": "python",
   "nbconvert_exporter": "python",
   "pygments_lexer": "ipython3",
   "version": "3.8.1"
  }
 },
 "nbformat": 4,
 "nbformat_minor": 4
}
